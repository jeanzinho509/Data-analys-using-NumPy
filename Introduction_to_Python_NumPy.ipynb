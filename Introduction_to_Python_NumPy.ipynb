{
  "nbformat": 4,
  "nbformat_minor": 0,
  "metadata": {
    "colab": {
      "provenance": [],
      "authorship_tag": "ABX9TyMzgxUD0Nv1Ws4n0W9zgXQh",
      "include_colab_link": true
    },
    "kernelspec": {
      "name": "python3",
      "display_name": "Python 3"
    },
    "language_info": {
      "name": "python"
    }
  },
  "cells": [
    {
      "cell_type": "markdown",
      "metadata": {
        "id": "view-in-github",
        "colab_type": "text"
      },
      "source": [
        "<a href=\"https://colab.research.google.com/github/jeanzinho509/Data-analys-using-NumPy/blob/main/Introduction_to_Python_NumPy.ipynb\" target=\"_parent\"><img src=\"https://colab.research.google.com/assets/colab-badge.svg\" alt=\"Open In Colab\"/></a>"
      ]
    },
    {
      "cell_type": "code",
      "execution_count": 1,
      "metadata": {
        "colab": {
          "base_uri": "https://localhost:8080/"
        },
        "id": "1vtI1oopKtck",
        "outputId": "ef385e06-9a9d-47a1-c1c5-35d36027b2e2"
      },
      "outputs": [
        {
          "output_type": "stream",
          "name": "stdout",
          "text": [
            "0.625\n",
            "17\n",
            "17\n"
          ]
        }
      ],
      "source": [
        "#The Python Interface\n",
        "\n",
        "# Example, do not modify!\n",
        "print(5 / 8)\n",
        "print(7 + 10)\n",
        "# Print the sum of 7 and 10\n",
        "print(7+10)\n"
      ]
    },
    {
      "cell_type": "code",
      "source": [
        "#Any Comments\n",
        "# Division\n",
        "print(5 / 8)\n",
        "\n",
        "# Addition\n",
        "print(7 + 10)"
      ],
      "metadata": {
        "id": "-8-1ogU9Y255"
      },
      "execution_count": null,
      "outputs": []
    },
    {
      "cell_type": "code",
      "source": [
        "#Python as a calculator\n",
        "\n",
        "# Addition, subtraction\n",
        "print(5 + 5)\n",
        "print(5 - 5)\n",
        "\n",
        "# Multiplication, division, modulo, and exponentiation\n",
        "print(3 * 5)\n",
        "print(10 / 2)\n",
        "print(18 % 7)\n",
        "print(4 ** 2)\n",
        "\n",
        "# How much is your $100 worth after 7 years?\n",
        "print(100 * 1.1 **7)"
      ],
      "metadata": {
        "id": "KKAYpB4RZKX-"
      },
      "execution_count": null,
      "outputs": []
    },
    {
      "cell_type": "code",
      "source": [
        "#Variable Assignment\n",
        "\n",
        "# Create a variable savings\n",
        "savings = 100\n",
        "\n",
        "# Print out savings\n",
        "print(savings)"
      ],
      "metadata": {
        "id": "MRXby2ziZUts"
      },
      "execution_count": null,
      "outputs": []
    },
    {
      "cell_type": "code",
      "source": [
        "# Create a variable savings\n",
        "\n",
        "# Create a variable savings\n",
        "savings = 100\n",
        "\n",
        "# Create a variable growth_multiplier\n",
        "growth_multiplier = 1.1\n",
        "\n",
        "# Calculate result\n",
        "result = savings * growth_multiplier ** 7\n",
        "\n",
        "# Print out result\n",
        "print(result)\n"
      ],
      "metadata": {
        "id": "iBvUWVWZZcxd"
      },
      "execution_count": null,
      "outputs": []
    },
    {
      "cell_type": "code",
      "source": [
        "# Other variable types\n",
        "# Create a new string, desc, with the value \"compound interest\n",
        "# Create a new boolean, profitable, with the value True\n",
        "# Create a variable desc\n",
        "desc = \"compound interest\"\n",
        "# Create a variable profitable\n",
        "profitable = True"
      ],
      "metadata": {
        "id": "jzM84OtAZmLc"
      },
      "execution_count": null,
      "outputs": []
    },
    {
      "cell_type": "code",
      "source": [
        "# Operations with other types\n",
        "\n",
        "# Calculate the product of savings and growth_multiplier. Store the result in year1.\n",
        "# What do you think the resulting type will be? Find out by printing out the type of year1.\n",
        "# Calculate the sum of desc and desc and store the result in a new variable doubledesc.\n",
        "# Print out doubledesc. Did you expect this?\n",
        "\n",
        "savings = 100\n",
        "growth_multiplier = 1.1\n",
        "desc = \"compound interest\"\n",
        "\n",
        "# Assign product of savings and growth_multiplier to year1\n",
        "year1 = savings * growth_multiplier\n",
        "\n",
        "# Print the type of year1\n",
        "print(type(year1))\n",
        "# Assign sum of desc and desc to doubledesc\n",
        "doubledesc = desc + desc\n",
        "\n",
        "# Print out doubledesc\n",
        "print(doubledesc)\n"
      ],
      "metadata": {
        "id": "Y4sM4M3ZZ6my"
      },
      "execution_count": null,
      "outputs": []
    },
    {
      "cell_type": "code",
      "source": [
        "# Type conversion\n",
        "# Hit Run Code to run the code. Try to understand the error message.\n",
        "# Fix the code such that the printout runs without errors; use the function str() to convert the variables to strings.\n",
        "# Convert the variable pi_string to a float and store this float as a new variable, pi_float.\n",
        "\n",
        "# Definition of savings and result\n",
        "savings = 100\n",
        "str(savings)\n",
        "result = 100 * 1.10 ** 7\n",
        "str(result)\n",
        "# Fix the printout\n",
        "print(\"I started with $\" + str(savings) + \" and now have $\" + str(result) + \". Awesome!\")\n",
        "\n",
        "# Definition of pi_string\n",
        "pi_string = \"3.1415926\"\n",
        "float(pi_string)\n",
        "# Convert pi_string into float: pi_float\n",
        "pi_float = float(pi_string)"
      ],
      "metadata": {
        "id": "L3IuIFmjaNYY"
      },
      "execution_count": null,
      "outputs": []
    },
    {
      "cell_type": "code",
      "source": [
        "# Create a list\n"
      ],
      "metadata": {
        "id": "nelL3KCEbVhb"
      },
      "execution_count": null,
      "outputs": []
    }
  ]
}